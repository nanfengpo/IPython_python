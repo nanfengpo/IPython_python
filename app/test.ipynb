{
 "cells": [
  {
   "cell_type": "code",
   "execution_count": 3,
   "metadata": {
    "collapsed": true
   },
   "outputs": [],
   "source": [
    "import numpy as np"
   ]
  },
  {
   "cell_type": "code",
   "execution_count": 4,
   "metadata": {},
   "outputs": [
    {
     "data": {
      "text/plain": [
       "'1.12.0'"
      ]
     },
     "execution_count": 4,
     "metadata": {},
     "output_type": "execute_result"
    }
   ],
   "source": [
    "np.__version__"
   ]
  },
  {
   "cell_type": "code",
   "execution_count": 5,
   "metadata": {},
   "outputs": [
    {
     "data": {
      "text/plain": [
       "1"
      ]
     },
     "execution_count": 5,
     "metadata": {},
     "output_type": "execute_result"
    }
   ],
   "source": [
    "1"
   ]
  },
  {
   "cell_type": "code",
   "execution_count": 6,
   "metadata": {},
   "outputs": [
    {
     "data": {
      "text/plain": [
       "[3, 2, 1]"
      ]
     },
     "execution_count": 6,
     "metadata": {},
     "output_type": "execute_result"
    }
   ],
   "source": [
    "L = [1,2,3]\n",
    "L[::-1]"
   ]
  },
  {
   "cell_type": "code",
   "execution_count": 8,
   "metadata": {},
   "outputs": [
    {
     "data": {
      "text/plain": [
       "array([ 0.        ,  0.09090909,  0.18181818,  0.27272727,  0.36363636,\n",
       "        0.45454545,  0.54545455,  0.63636364,  0.72727273,  0.81818182,\n",
       "        0.90909091,  1.        ])"
      ]
     },
     "execution_count": 8,
     "metadata": {},
     "output_type": "execute_result"
    }
   ],
   "source": [
    "np.linspace(0,1,12,endpoint=True)"
   ]
  },
  {
   "cell_type": "code",
   "execution_count": 9,
   "metadata": {},
   "outputs": [
    {
     "name": "stdout",
     "output_type": "stream",
     "text": [
      "[[59 41 77 68]\n",
      " [65 56 38 69]\n",
      " [53 68 46 48]]\n"
     ]
    }
   ],
   "source": [
    "A = np.random.randint(0,10,(3,4,3,4))\n",
    "# solution by passing a tuple of axes (introduced in numpy 1.7.0)\n",
    "sum = A.sum(axis=(-2,-1))\n",
    "print(sum)"
   ]
  },
  {
   "cell_type": "code",
   "execution_count": 10,
   "metadata": {},
   "outputs": [
    {
     "name": "stdout",
     "output_type": "stream",
     "text": [
      "[ 1.  0.  0.  0.  2.  0.  0.  0.  3.  0.  0.  0.  4.  0.  0.  0.  5.]\n"
     ]
    }
   ],
   "source": [
    "Z = np.array([1,2,3,4,5])\n",
    "nz = 3\n",
    "Z0 = np.zeros(len(Z) + (len(Z)-1)*(nz))\n",
    "Z0[::nz+1] = Z\n",
    "print(Z0)"
   ]
  },
  {
   "cell_type": "code",
   "execution_count": 12,
   "metadata": {},
   "outputs": [
    {
     "data": {
      "text/plain": [
       "[1, 2, 3, 5, 4, 6]"
      ]
     },
     "execution_count": 12,
     "metadata": {},
     "output_type": "execute_result"
    }
   ],
   "source": [
    "array = [1,2,3,6,5,4]\n",
    "for i in range(len(array)):\n",
    "    for j in range(i):\n",
    "        if array[j] > array[j + 1]:\n",
    "            array[j], array[j + 1] = array[j + 1], array[j]\n",
    "array"
   ]
  },
  {
   "cell_type": "code",
   "execution_count": 13,
   "metadata": {
    "collapsed": true
   },
   "outputs": [],
   "source": [
    "def bubblesort(numbers):\n",
    "    for j in range(len(numbers)-1,-1,-1):\n",
    "        for i in range(j):\n",
    "            if numbers[i]>numbers[i+1]:\n",
    "                numbers[i],numbers[i+1] = numbers[i+1],numbers[i]\n",
    "            print(i,j)\n",
    "            print(numbers)"
   ]
  },
  {
   "cell_type": "code",
   "execution_count": 14,
   "metadata": {},
   "outputs": [
    {
     "name": "stdout",
     "output_type": "stream",
     "text": [
      "0 5\n",
      "[1, 2, 3, 5, 4, 6]\n",
      "1 5\n",
      "[1, 2, 3, 5, 4, 6]\n",
      "2 5\n",
      "[1, 2, 3, 5, 4, 6]\n",
      "3 5\n",
      "[1, 2, 3, 4, 5, 6]\n",
      "4 5\n",
      "[1, 2, 3, 4, 5, 6]\n",
      "0 4\n",
      "[1, 2, 3, 4, 5, 6]\n",
      "1 4\n",
      "[1, 2, 3, 4, 5, 6]\n",
      "2 4\n",
      "[1, 2, 3, 4, 5, 6]\n",
      "3 4\n",
      "[1, 2, 3, 4, 5, 6]\n",
      "0 3\n",
      "[1, 2, 3, 4, 5, 6]\n",
      "1 3\n",
      "[1, 2, 3, 4, 5, 6]\n",
      "2 3\n",
      "[1, 2, 3, 4, 5, 6]\n",
      "0 2\n",
      "[1, 2, 3, 4, 5, 6]\n",
      "1 2\n",
      "[1, 2, 3, 4, 5, 6]\n",
      "0 1\n",
      "[1, 2, 3, 4, 5, 6]\n"
     ]
    }
   ],
   "source": [
    "bubblesort(array)"
   ]
  },
  {
   "cell_type": "code",
   "execution_count": 15,
   "metadata": {},
   "outputs": [
    {
     "name": "stdout",
     "output_type": "stream",
     "text": [
      "[[0 1 0 1 0 1 0 1]\n",
      " [1 0 1 0 1 0 1 0]\n",
      " [0 1 0 1 0 1 0 1]\n",
      " [1 0 1 0 1 0 1 0]\n",
      " [0 1 0 1 0 1 0 1]\n",
      " [1 0 1 0 1 0 1 0]\n",
      " [0 1 0 1 0 1 0 1]\n",
      " [1 0 1 0 1 0 1 0]]\n"
     ]
    }
   ],
   "source": [
    "Z = np.zeros((8,8),dtype=int)\n",
    "Z[1::2,::2] = 1\n",
    "Z[::2,1::2] = 1\n",
    "print(Z)"
   ]
  },
  {
   "cell_type": "code",
   "execution_count": 19,
   "metadata": {
    "collapsed": true
   },
   "outputs": [],
   "source": [
    "a = np.random.randn(30,30)"
   ]
  },
  {
   "cell_type": "code",
   "execution_count": 20,
   "metadata": {},
   "outputs": [
    {
     "data": {
      "text/plain": [
       "0.038239248889556252"
      ]
     },
     "execution_count": 20,
     "metadata": {},
     "output_type": "execute_result"
    }
   ],
   "source": [
    "a.mean()"
   ]
  },
  {
   "cell_type": "code",
   "execution_count": 21,
   "metadata": {
    "collapsed": true
   },
   "outputs": [],
   "source": [
    "a = np.arange(10)"
   ]
  },
  {
   "cell_type": "code",
   "execution_count": 22,
   "metadata": {},
   "outputs": [
    {
     "data": {
      "text/plain": [
       "array([0, 1, 2, 3, 4, 5, 6, 7, 8, 9])"
      ]
     },
     "execution_count": 22,
     "metadata": {},
     "output_type": "execute_result"
    }
   ],
   "source": [
    "a"
   ]
  },
  {
   "cell_type": "code",
   "execution_count": 25,
   "metadata": {},
   "outputs": [
    {
     "data": {
      "text/plain": [
       "array([9, 8, 7, 6, 5, 4, 3, 2, 1, 0])"
      ]
     },
     "execution_count": 25,
     "metadata": {},
     "output_type": "execute_result"
    }
   ],
   "source": [
    "a[::-1]"
   ]
  },
  {
   "cell_type": "code",
   "execution_count": 32,
   "metadata": {},
   "outputs": [
    {
     "data": {
      "text/plain": [
       "array([[ 0.33850567,  0.21601866,  0.7771187 ,  0.89953107,  0.02436305,\n",
       "         0.87576841,  0.86470457,  0.44111756,  0.39810983,  0.95612765],\n",
       "       [ 0.74745982,  0.78009117,  0.20074047,  0.80577955,  0.43222214,\n",
       "         0.64993431,  0.77398426,  0.87324906,  0.71932536,  0.37989756],\n",
       "       [ 0.91803676,  0.9740342 ,  0.26053826,  0.44031412,  0.64365713,\n",
       "         0.87607809,  0.45089023,  0.73277173,  0.72813373,  0.03872222],\n",
       "       [ 0.10988237,  0.4593062 ,  0.63223688,  0.22768427,  0.28641894,\n",
       "         0.28132089,  0.90183483,  0.33782405,  0.33223441,  0.44757581],\n",
       "       [ 0.20588929,  0.71253455,  0.42365137,  0.5952425 ,  0.19683412,\n",
       "         0.10440447,  0.37526453,  0.55252609,  0.99080351,  0.09556539]])"
      ]
     },
     "execution_count": 32,
     "metadata": {},
     "output_type": "execute_result"
    }
   ],
   "source": [
    "x = np.random.rand(5, 10)\n",
    "x"
   ]
  },
  {
   "cell_type": "code",
   "execution_count": 33,
   "metadata": {
    "collapsed": true
   },
   "outputs": [],
   "source": [
    "Y = X - X.mean(axis=1)"
   ]
  },
  {
   "cell_type": "code",
   "execution_count": 34,
   "metadata": {},
   "outputs": [
    {
     "data": {
      "text/plain": [
       "array([[ 0.24867888,  0.33786911,  0.06286186, -0.40563304, -0.52425842,\n",
       "         0.22848197,  0.070174  ,  0.1085689 , -0.52343752,  0.39669425],\n",
       "       [ 0.24915373,  0.02023597, -0.50566828, -0.10551387,  0.29381076,\n",
       "         0.31432562, -0.08331936,  0.23843497, -0.24538206, -0.17607748],\n",
       "       [-0.51834759, -0.20340376,  0.05267618,  0.31825951,  0.11665916,\n",
       "        -0.20764961,  0.31096559,  0.3624026 , -0.1651663 , -0.06639577],\n",
       "       [-0.19008032, -0.30450933,  0.45479945, -0.09075594,  0.12959771,\n",
       "        -0.23735478, -0.08608037, -0.01722733,  0.40048558, -0.05887468],\n",
       "       [ 0.34057855,  0.26223427,  0.34167045, -0.22810676, -0.12385926,\n",
       "        -0.40838902,  0.27184048,  0.31381074, -0.41818721, -0.35159225]])"
      ]
     },
     "execution_count": 34,
     "metadata": {},
     "output_type": "execute_result"
    }
   ],
   "source": [
    "Y"
   ]
  },
  {
   "cell_type": "code",
   "execution_count": 36,
   "metadata": {
    "collapsed": true
   },
   "outputs": [],
   "source": [
    "Y = X - X.mean(axis=1).reshape(-1, 1)"
   ]
  },
  {
   "cell_type": "code",
   "execution_count": 37,
   "metadata": {},
   "outputs": [
    {
     "data": {
      "text/plain": [
       "array([[ 0.24867888,  0.33786911,  0.06286186, -0.40563304, -0.52425842,\n",
       "         0.22848197,  0.070174  ,  0.1085689 , -0.52343752,  0.39669425],\n",
       "       [ 0.24915373,  0.02023597, -0.50566828, -0.10551387,  0.29381076,\n",
       "         0.31432562, -0.08331936,  0.23843497, -0.24538206, -0.17607748],\n",
       "       [-0.51834759, -0.20340376,  0.05267618,  0.31825951,  0.11665916,\n",
       "        -0.20764961,  0.31096559,  0.3624026 , -0.1651663 , -0.06639577],\n",
       "       [-0.19008032, -0.30450933,  0.45479945, -0.09075594,  0.12959771,\n",
       "        -0.23735478, -0.08608037, -0.01722733,  0.40048558, -0.05887468],\n",
       "       [ 0.34057855,  0.26223427,  0.34167045, -0.22810676, -0.12385926,\n",
       "        -0.40838902,  0.27184048,  0.31381074, -0.41818721, -0.35159225]])"
      ]
     },
     "execution_count": 37,
     "metadata": {},
     "output_type": "execute_result"
    }
   ],
   "source": [
    "Y"
   ]
  },
  {
   "cell_type": "code",
   "execution_count": 38,
   "metadata": {},
   "outputs": [
    {
     "name": "stdout",
     "output_type": "stream",
     "text": [
      "[[ 0.33287548  0.69007339]\n",
      " [ 0.53992368  0.97965634]\n",
      " [ 0.44767046  0.72025653]\n",
      " [ 0.73600588  1.00987555]\n",
      " [ 0.77230622  1.12810392]]\n"
     ]
    }
   ],
   "source": [
    "Z = np.dot(np.random.random((5,3)), np.random.random((3,2)))\n",
    "print(Z)"
   ]
  },
  {
   "cell_type": "code",
   "execution_count": 40,
   "metadata": {},
   "outputs": [
    {
     "data": {
      "text/plain": [
       "array([  0,   1,   2,   3,  15,  16,  32,  64, 128])"
      ]
     },
     "execution_count": 40,
     "metadata": {},
     "output_type": "execute_result"
    }
   ],
   "source": [
    "I = np.array([0, 1, 2, 3, 15, 16, 32, 64, 128])\n",
    "I"
   ]
  },
  {
   "cell_type": "code",
   "execution_count": 41,
   "metadata": {},
   "outputs": [
    {
     "data": {
      "text/plain": [
       "array([[  0],\n",
       "       [  1],\n",
       "       [  2],\n",
       "       [  3],\n",
       "       [ 15],\n",
       "       [ 16],\n",
       "       [ 32],\n",
       "       [ 64],\n",
       "       [128]])"
      ]
     },
     "execution_count": 41,
     "metadata": {},
     "output_type": "execute_result"
    }
   ],
   "source": [
    "A = I.reshape(-1,1)\n",
    "A"
   ]
  },
  {
   "cell_type": "code",
   "execution_count": 43,
   "metadata": {},
   "outputs": [
    {
     "data": {
      "text/plain": [
       "array([  1,   2,   4,   8,  16,  32,  64, 128])"
      ]
     },
     "execution_count": 43,
     "metadata": {},
     "output_type": "execute_result"
    }
   ],
   "source": [
    "B = 2**np.arange(8)\n",
    "B"
   ]
  },
  {
   "cell_type": "code",
   "execution_count": 45,
   "metadata": {},
   "outputs": [
    {
     "data": {
      "text/plain": [
       "array([[False, False, False, False, False, False, False, False],\n",
       "       [ True, False, False, False, False, False, False, False],\n",
       "       [False,  True, False, False, False, False, False, False],\n",
       "       [ True,  True, False, False, False, False, False, False],\n",
       "       [ True,  True,  True,  True, False, False, False, False],\n",
       "       [False, False, False, False,  True, False, False, False],\n",
       "       [False, False, False, False, False,  True, False, False],\n",
       "       [False, False, False, False, False, False,  True, False],\n",
       "       [False, False, False, False, False, False, False,  True]], dtype=bool)"
      ]
     },
     "execution_count": 45,
     "metadata": {},
     "output_type": "execute_result"
    }
   ],
   "source": [
    "(A & B)!=0"
   ]
  },
  {
   "cell_type": "code",
   "execution_count": null,
   "metadata": {
    "collapsed": true
   },
   "outputs": [],
   "source": [
    "B = ((I.reshape(-1,1) & (2**np.arange(8))) != 0).astype(int)\n",
    "print(B[:,::-1])"
   ]
  },
  {
   "cell_type": "code",
   "execution_count": 46,
   "metadata": {
    "collapsed": true
   },
   "outputs": [],
   "source": [
    "X = np.random.rand(5, 10)\n",
    "Y = X - X.mean(axis=1).reshape(-1, 1)"
   ]
  },
  {
   "cell_type": "code",
   "execution_count": 47,
   "metadata": {},
   "outputs": [
    {
     "data": {
      "text/plain": [
       "array([[ 0.41249613, -0.54064358,  0.26433082,  0.19839639, -0.23457482,\n",
       "         0.16148717, -0.02071315,  0.38255338, -0.22351795, -0.39981439],\n",
       "       [-0.00166576, -0.2374005 , -0.34677819,  0.36584572,  0.22959242,\n",
       "        -0.34437947, -0.21390163,  0.51409251,  0.16011043, -0.12551553],\n",
       "       [-0.03328057, -0.22828419, -0.29474377, -0.29876002,  0.3403778 ,\n",
       "        -0.06895611,  0.1726515 ,  0.42879248,  0.32796694, -0.34576407],\n",
       "       [ 0.04105634,  0.28177886, -0.36259901,  0.12978063, -0.40619318,\n",
       "        -0.00722681,  0.25164857, -0.13174364,  0.24112099, -0.03762275],\n",
       "       [ 0.08509481,  0.11811506,  0.16255209, -0.05817579,  0.1383846 ,\n",
       "        -0.04376009, -0.05170441,  0.32221005, -0.35952939, -0.31318693]])"
      ]
     },
     "execution_count": 47,
     "metadata": {},
     "output_type": "execute_result"
    }
   ],
   "source": [
    "Y"
   ]
  },
  {
   "cell_type": "code",
   "execution_count": 48,
   "metadata": {},
   "outputs": [
    {
     "data": {
      "text/plain": [
       "array([[ 0.5476757 ],\n",
       "       [ 0.37881819],\n",
       "       [ 0.35642452],\n",
       "       [ 0.48971847],\n",
       "       [ 0.50098184]])"
      ]
     },
     "execution_count": 48,
     "metadata": {},
     "output_type": "execute_result"
    }
   ],
   "source": [
    "X.mean(axis=1).reshape(-1, 1)"
   ]
  },
  {
   "cell_type": "code",
   "execution_count": 49,
   "metadata": {},
   "outputs": [
    {
     "data": {
      "text/plain": [
       "array([[ 0.96017184,  0.00703213,  0.81200653,  0.74607209,  0.31310088,\n",
       "         0.70916288,  0.52696255,  0.93022908,  0.32415775,  0.14786131],\n",
       "       [ 0.37715243,  0.14141769,  0.03203999,  0.74466391,  0.60841061,\n",
       "         0.03443872,  0.16491656,  0.8929107 ,  0.53892861,  0.25330266],\n",
       "       [ 0.32314395,  0.12814033,  0.06168076,  0.05766451,  0.69680233,\n",
       "         0.28746842,  0.52907602,  0.78521701,  0.68439146,  0.01066046],\n",
       "       [ 0.53077481,  0.77149733,  0.12711946,  0.6194991 ,  0.08352529,\n",
       "         0.48249166,  0.74136704,  0.35797483,  0.73083946,  0.45209573],\n",
       "       [ 0.58607665,  0.6190969 ,  0.66353393,  0.44280605,  0.63936644,\n",
       "         0.45722175,  0.44927743,  0.82319189,  0.14145245,  0.18779492]])"
      ]
     },
     "execution_count": 49,
     "metadata": {},
     "output_type": "execute_result"
    }
   ],
   "source": [
    "X"
   ]
  },
  {
   "cell_type": "code",
   "execution_count": 51,
   "metadata": {},
   "outputs": [
    {
     "data": {
      "text/plain": [
       "array([[ 1.,  0.,  0.,  0.,  0.],\n",
       "       [ 0.,  1.,  0.,  0.,  0.],\n",
       "       [ 0.,  0.,  1.,  0.,  0.],\n",
       "       [ 0.,  0.,  0.,  1.,  0.]])"
      ]
     },
     "execution_count": 51,
     "metadata": {},
     "output_type": "execute_result"
    }
   ],
   "source": [
    "np.eye(4,5)"
   ]
  },
  {
   "cell_type": "code",
   "execution_count": null,
   "metadata": {
    "collapsed": true
   },
   "outputs": [],
   "source": [
    "z = np.random.randint(0,10,(5,5))\n",
    "z"
   ]
  },
  {
   "cell_type": "code",
   "execution_count": 32,
   "metadata": {},
   "outputs": [
    {
     "name": "stdout",
     "output_type": "stream",
     "text": [
      "[[6 8 8 1 9]\n",
      " [3 2 1 3 2]\n",
      " [1 7 0 7 4]\n",
      " [5 9 2 0 2]\n",
      " [6 1 5 5 1]]\n",
      "[[5 9 2 0 2]\n",
      " [6 8 8 1 9]\n",
      " [3 2 1 3 2]\n",
      " [6 1 5 5 1]\n",
      " [1 7 0 7 4]]\n"
     ]
    },
    {
     "data": {
      "text/plain": [
       "array([3, 0, 1, 4, 2])"
      ]
     },
     "execution_count": 32,
     "metadata": {},
     "output_type": "execute_result"
    }
   ],
   "source": [
    "import numpy as np\n",
    "Z = np.random.randint(0,10,(5,5))\n",
    "print(Z)\n",
    "print(Z[Z[:,3].argsort()])\n",
    "Z[:,3].argsort()"
   ]
  },
  {
   "cell_type": "code",
   "execution_count": 33,
   "metadata": {},
   "outputs": [
    {
     "data": {
      "text/plain": [
       "array([[6, 8, 8, 1, 9],\n",
       "       [3, 2, 1, 3, 2],\n",
       "       [1, 7, 0, 7, 4],\n",
       "       [5, 9, 2, 0, 2],\n",
       "       [6, 1, 5, 5, 1]])"
      ]
     },
     "execution_count": 33,
     "metadata": {},
     "output_type": "execute_result"
    }
   ],
   "source": [
    "Z"
   ]
  },
  {
   "cell_type": "code",
   "execution_count": 34,
   "metadata": {},
   "outputs": [
    {
     "data": {
      "text/plain": [
       "array([5, 9, 2, 0, 2])"
      ]
     },
     "execution_count": 34,
     "metadata": {},
     "output_type": "execute_result"
    }
   ],
   "source": [
    "Z[3]"
   ]
  },
  {
   "cell_type": "code",
   "execution_count": 35,
   "metadata": {},
   "outputs": [
    {
     "data": {
      "text/plain": [
       "array([[5, 9, 2, 0, 2]])"
      ]
     },
     "execution_count": 35,
     "metadata": {},
     "output_type": "execute_result"
    }
   ],
   "source": [
    "Z[[3]]"
   ]
  },
  {
   "cell_type": "code",
   "execution_count": 36,
   "metadata": {},
   "outputs": [
    {
     "data": {
      "text/plain": [
       "2"
      ]
     },
     "execution_count": 36,
     "metadata": {},
     "output_type": "execute_result"
    }
   ],
   "source": [
    "Z[3,4]"
   ]
  },
  {
   "cell_type": "code",
   "execution_count": 37,
   "metadata": {},
   "outputs": [
    {
     "data": {
      "text/plain": [
       "array([[6, 2, 8, 1, 9],\n",
       "       [3, 2, 1, 3, 2],\n",
       "       [1, 7, 0, 7, 4],\n",
       "       [5, 9, 2, 0, 2],\n",
       "       [6, 1, 5, 5, 1]])"
      ]
     },
     "execution_count": 37,
     "metadata": {},
     "output_type": "execute_result"
    }
   ],
   "source": [
    "Z[3,4]\n",
    "Z"
   ]
  },
  {
   "cell_type": "code",
   "execution_count": 18,
   "metadata": {},
   "outputs": [
    {
     "data": {
      "text/plain": [
       "array([[1, 0, 6, 4, 9],\n",
       "       [1, 0, 6, 4, 9],\n",
       "       [9, 3, 8, 4, 0],\n",
       "       [1, 5, 7, 8, 7],\n",
       "       [2, 4, 7, 0, 3]])"
      ]
     },
     "execution_count": 18,
     "metadata": {},
     "output_type": "execute_result"
    }
   ],
   "source": [
    "Z"
   ]
  },
  {
   "cell_type": "code",
   "execution_count": 17,
   "metadata": {},
   "outputs": [
    {
     "data": {
      "text/plain": [
       "array([[1, 0, 6, 4, 9],\n",
       "       [1, 0, 6, 4, 9],\n",
       "       [9, 3, 8, 4, 0],\n",
       "       [1, 5, 7, 8, 7],\n",
       "       [2, 4, 7, 0, 3]])"
      ]
     },
     "execution_count": 17,
     "metadata": {},
     "output_type": "execute_result"
    }
   ],
   "source": [
    "Z\n",
    "tmp=Z[0].copy()\n",
    "Z[0]=Z[1].copy()\n",
    "Z[1]=tmp\n",
    "Z"
   ]
  },
  {
   "cell_type": "code",
   "execution_count": 56,
   "metadata": {},
   "outputs": [
    {
     "name": "stdout",
     "output_type": "stream",
     "text": [
      "[1 2 3 4]\n",
      "<class 'numpy.int64'>\n",
      "[2 1 3 4]\n"
     ]
    }
   ],
   "source": [
    "x = np.array([1,2,3,4])\n",
    "print(x)\n",
    "print(type(x[0]))\n",
    "x[0],x[1]=x[1],x[0]\n",
    "print(x)"
   ]
  },
  {
   "cell_type": "code",
   "execution_count": 57,
   "metadata": {},
   "outputs": [
    {
     "name": "stdout",
     "output_type": "stream",
     "text": [
      "[[2 7 6 7 4]\n",
      " [3 2 0 4 0]\n",
      " [9 3 0 4 5]\n",
      " [6 1 2 1 3]\n",
      " [3 8 0 6 7]]\n",
      "<class 'numpy.ndarray'>\n",
      "[[3 2 0 4 0]\n",
      " [3 2 0 4 0]\n",
      " [9 3 0 4 5]\n",
      " [6 1 2 1 3]\n",
      " [3 8 0 6 7]]\n"
     ]
    }
   ],
   "source": [
    "Z = np.random.randint(0,10,(5,5))\n",
    "print(Z)\n",
    "print(type(Z[0]))\n",
    "Z[0],Z[1]=Z[1],Z[0]\n",
    "print(Z)"
   ]
  },
  {
   "cell_type": "code",
   "execution_count": 58,
   "metadata": {},
   "outputs": [
    {
     "name": "stdout",
     "output_type": "stream",
     "text": [
      "[[3 1 4 8 8]\n",
      " [5 7 7 3 3]\n",
      " [2 4 7 9 4]\n",
      " [5 6 0 4 5]\n",
      " [6 9 1 5 7]]\n",
      "[[5 7 7 3 3]\n",
      " [3 1 4 8 8]\n",
      " [2 4 7 9 4]\n",
      " [5 6 0 4 5]\n",
      " [6 9 1 5 7]]\n"
     ]
    }
   ],
   "source": [
    "Z = np.random.randint(0,10,(5,5))\n",
    "print(Z)\n",
    "tmp = Z[0].copy()\n",
    "Z[0]=Z[1]\n",
    "Z[1]=tmp\n",
    "print(Z)"
   ]
  },
  {
   "cell_type": "code",
   "execution_count": null,
   "metadata": {
    "collapsed": true
   },
   "outputs": [],
   "source": []
  }
 ],
 "metadata": {
  "kernelspec": {
   "display_name": "Python 3",
   "language": "python",
   "name": "python3"
  },
  "language_info": {
   "codemirror_mode": {
    "name": "ipython",
    "version": 3
   },
   "file_extension": ".py",
   "mimetype": "text/x-python",
   "name": "python",
   "nbconvert_exporter": "python",
   "pygments_lexer": "ipython3",
   "version": "3.5.2"
  }
 },
 "nbformat": 4,
 "nbformat_minor": 1
}
